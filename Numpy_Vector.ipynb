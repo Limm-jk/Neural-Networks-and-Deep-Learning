{
  "nbformat": 4,
  "nbformat_minor": 0,
  "metadata": {
    "colab": {
      "name": "Numpy_Vector.ipynb",
      "provenance": [],
      "authorship_tag": "ABX9TyNRAidt4KoKSRJx/1xOVXxh",
      "include_colab_link": true
    },
    "kernelspec": {
      "name": "python3",
      "display_name": "Python 3"
    }
  },
  "cells": [
    {
      "cell_type": "markdown",
      "metadata": {
        "id": "view-in-github",
        "colab_type": "text"
      },
      "source": [
        "<a href=\"https://colab.research.google.com/github/Limm-jk/Neural-Networks-and-Deep-Learning/blob/main/Numpy_Vector.ipynb\" target=\"_parent\"><img src=\"https://colab.research.google.com/assets/colab-badge.svg\" alt=\"Open In Colab\"/></a>"
      ]
    },
    {
      "cell_type": "code",
      "metadata": {
        "id": "d3C20gNy-RmS",
        "outputId": "8380d36f-dac1-4c5a-9e92-0feb7d0d2753",
        "colab": {
          "base_uri": "https://localhost:8080/",
          "height": 34
        }
      },
      "source": [
        "import numpy as np\n",
        "\n",
        "a = np.random.randn(5) # <- Rank 1 array\n",
        "\n",
        "print(a)"
      ],
      "execution_count": 1,
      "outputs": [
        {
          "output_type": "stream",
          "text": [
            "[ 0.14580673  0.8548527   0.31304978 -0.17525618 -0.52541891]\n"
          ],
          "name": "stdout"
        }
      ]
    },
    {
      "cell_type": "code",
      "metadata": {
        "id": "bV6K7bWp-iDA",
        "outputId": "04e1a675-fe01-4f1d-b8d7-15a6609d8b56",
        "colab": {
          "base_uri": "https://localhost:8080/",
          "height": 34
        }
      },
      "source": [
        "print(a.shape)"
      ],
      "execution_count": 2,
      "outputs": [
        {
          "output_type": "stream",
          "text": [
            "(5,)\n"
          ],
          "name": "stdout"
        }
      ]
    },
    {
      "cell_type": "code",
      "metadata": {
        "id": "UGQJBuZA-uvy",
        "outputId": "67717719-2b1f-4387-cc59-3707d6e15aa6",
        "colab": {
          "base_uri": "https://localhost:8080/",
          "height": 34
        }
      },
      "source": [
        "print(a.T)"
      ],
      "execution_count": 3,
      "outputs": [
        {
          "output_type": "stream",
          "text": [
            "[ 0.14580673  0.8548527   0.31304978 -0.17525618 -0.52541891]\n"
          ],
          "name": "stdout"
        }
      ]
    },
    {
      "cell_type": "code",
      "metadata": {
        "id": "J2A_JBZM-zBo",
        "outputId": "5b5fe005-9a20-41b3-cbeb-1e99d37cdfdf",
        "colab": {
          "base_uri": "https://localhost:8080/",
          "height": 34
        }
      },
      "source": [
        "print(np.dot(a,a.T))"
      ],
      "execution_count": 4,
      "outputs": [
        {
          "output_type": "stream",
          "text": [
            "1.1568126725781598\n"
          ],
          "name": "stdout"
        }
      ]
    },
    {
      "cell_type": "code",
      "metadata": {
        "id": "Pqld57sw-2_m",
        "outputId": "4af5a87f-5fc7-4879-8992-436ebb06806b",
        "colab": {
          "base_uri": "https://localhost:8080/",
          "height": 105
        }
      },
      "source": [
        "a = np.random.randn(5,1)\n",
        "print(a)"
      ],
      "execution_count": 5,
      "outputs": [
        {
          "output_type": "stream",
          "text": [
            "[[ 0.78574235]\n",
            " [ 0.71874128]\n",
            " [ 0.6896282 ]\n",
            " [-0.28240552]\n",
            " [ 0.59882201]]\n"
          ],
          "name": "stdout"
        }
      ]
    },
    {
      "cell_type": "code",
      "metadata": {
        "id": "gKOjTqC5_AX5",
        "outputId": "b84830bd-174d-4746-ba30-c9c7b9894978",
        "colab": {
          "base_uri": "https://localhost:8080/",
          "height": 34
        }
      },
      "source": [
        "print(a.T)"
      ],
      "execution_count": 6,
      "outputs": [
        {
          "output_type": "stream",
          "text": [
            "[[ 0.78574235  0.71874128  0.6896282  -0.28240552  0.59882201]]\n"
          ],
          "name": "stdout"
        }
      ]
    },
    {
      "cell_type": "code",
      "metadata": {
        "id": "EV-V7N9N_CwU",
        "outputId": "0abf3dd1-706e-4a41-917f-96b88216cc34",
        "colab": {
          "base_uri": "https://localhost:8080/",
          "height": 105
        }
      },
      "source": [
        "print(np.dot(a,a.T))"
      ],
      "execution_count": 7,
      "outputs": [
        {
          "output_type": "stream",
          "text": [
            "[[ 0.61739104  0.56474546  0.54187008 -0.22189798  0.47051981]\n",
            " [ 0.56474546  0.51658903  0.49566426 -0.20297651  0.4303981 ]\n",
            " [ 0.54187008  0.49566426  0.47558705 -0.19475481  0.41296455]\n",
            " [-0.22189798 -0.20297651 -0.19475481  0.07975288 -0.16911064]\n",
            " [ 0.47051981  0.4303981   0.41296455 -0.16911064  0.3585878 ]]\n"
          ],
          "name": "stdout"
        }
      ]
    },
    {
      "cell_type": "code",
      "metadata": {
        "id": "xX0QInEO_YLG"
      },
      "source": [
        "# Rank 1 array를 사용하지마라.\n",
        "# (5,1) (1,5)와 같은 확실한 column / row Vector의 구분을 가져서 사용해라"
      ],
      "execution_count": null,
      "outputs": []
    },
    {
      "cell_type": "code",
      "metadata": {
        "id": "S3vNnLPNAg9c"
      },
      "source": [
        "assert(a.shape == (5,1))"
      ],
      "execution_count": 11,
      "outputs": []
    }
  ]
}