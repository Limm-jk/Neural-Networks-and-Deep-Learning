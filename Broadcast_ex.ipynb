{
  "nbformat": 4,
  "nbformat_minor": 0,
  "metadata": {
    "colab": {
      "name": "Broadcast_ex.ipynb",
      "provenance": [],
      "authorship_tag": "ABX9TyPzPYU5qlNllZ6yNsb0QyKw",
      "include_colab_link": true
    },
    "kernelspec": {
      "name": "python3",
      "display_name": "Python 3"
    }
  },
  "cells": [
    {
      "cell_type": "markdown",
      "metadata": {
        "id": "view-in-github",
        "colab_type": "text"
      },
      "source": [
        "<a href=\"https://colab.research.google.com/github/Limm-jk/Neural-Networks-and-Deep-Learning/blob/main/Broadcast_ex.ipynb\" target=\"_parent\"><img src=\"https://colab.research.google.com/assets/colab-badge.svg\" alt=\"Open In Colab\"/></a>"
      ]
    },
    {
      "cell_type": "code",
      "metadata": {
        "id": "9N_9V8HO6W5O",
        "outputId": "cb27102f-258d-43a1-e609-56593d2e6cff",
        "colab": {
          "base_uri": "https://localhost:8080/",
          "height": 70
        }
      },
      "source": [
        "import numpy as np\n",
        "\n",
        "A = np.array([[56.0, 0.0, 4.4, 68.0],\n",
        "             [1.2, 104.0, 52.0, 8.0],\n",
        "             [1.8, 135.0, 99.0, 0.9]])\n",
        "\n",
        "print(A)"
      ],
      "execution_count": 2,
      "outputs": [
        {
          "output_type": "stream",
          "text": [
            "[[ 56.    0.    4.4  68. ]\n",
            " [  1.2 104.   52.    8. ]\n",
            " [  1.8 135.   99.    0.9]]\n"
          ],
          "name": "stdout"
        }
      ]
    },
    {
      "cell_type": "code",
      "metadata": {
        "id": "QCXjXjcC62cS",
        "outputId": "837c42bb-5508-4a57-c23d-4950c4629d7e",
        "colab": {
          "base_uri": "https://localhost:8080/",
          "height": 34
        }
      },
      "source": [
        "cal = A.sum(axis=0)\n",
        "print(cal)"
      ],
      "execution_count": 3,
      "outputs": [
        {
          "output_type": "stream",
          "text": [
            "[ 59.  239.  155.4  76.9]\n"
          ],
          "name": "stdout"
        }
      ]
    },
    {
      "cell_type": "code",
      "metadata": {
        "id": "TshLFABt67LS",
        "outputId": "955d61a1-466d-4887-dbe5-e022ef24baaf",
        "colab": {
          "base_uri": "https://localhost:8080/",
          "height": 70
        }
      },
      "source": [
        "percentage = 100*A/cal.reshape(1,4)\n",
        "print(percentage)"
      ],
      "execution_count": 6,
      "outputs": [
        {
          "output_type": "stream",
          "text": [
            "[[94.91525424  0.          2.83140283 88.42652796]\n",
            " [ 2.03389831 43.51464435 33.46203346 10.40312094]\n",
            " [ 3.05084746 56.48535565 63.70656371  1.17035111]]\n"
          ],
          "name": "stdout"
        }
      ]
    },
    {
      "cell_type": "code",
      "metadata": {
        "id": "flOotkyv7Eqm"
      },
      "source": [
        "# axis=0는 세로 값의 연산을 의미. 1이면 가로"
      ],
      "execution_count": null,
      "outputs": []
    }
  ]
}